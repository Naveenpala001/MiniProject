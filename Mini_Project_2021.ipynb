{
  "nbformat": 4,
  "nbformat_minor": 0,
  "metadata": {
    "colab": {
      "name": "Mini Project 2021.ipynb",
      "provenance": [],
      "collapsed_sections": [],
      "mount_file_id": "1ydBMEUu9JI14Z6bVUBpz75P7AvHLEZtc",
      "authorship_tag": "ABX9TyM28AvwsETPwGYLcu5oOaX0",
      "include_colab_link": true
    },
    "kernelspec": {
      "name": "python3",
      "display_name": "Python 3"
    }
  },
  "cells": [
    {
      "cell_type": "markdown",
      "metadata": {
        "id": "view-in-github",
        "colab_type": "text"
      },
      "source": [
        "<a href=\"https://colab.research.google.com/github/Naveenpala001/MiniProject/blob/main/Mini_Project_2021.ipynb\" target=\"_parent\"><img src=\"https://colab.research.google.com/assets/colab-badge.svg\" alt=\"Open In Colab\"/></a>"
      ]
    },
    {
      "cell_type": "code",
      "metadata": {
        "colab": {
          "base_uri": "https://localhost:8080/"
        },
        "id": "I820HA0nuhbH",
        "outputId": "bb8f1740-4c0f-4c99-9f3c-b4703b6927fa"
      },
      "source": [
        "!pip install bing-image-downloader\r\n",
        "!mkdir images\r\n"
      ],
      "execution_count": 1,
      "outputs": [
        {
          "output_type": "stream",
          "text": [
            "Collecting bing-image-downloader\n",
            "  Downloading https://files.pythonhosted.org/packages/0d/bf/537a61030b84ae4cd5022d5c7b014fd9bc3ce7c02358919153a6658a61d3/bing_image_downloader-1.0.4-py3-none-any.whl\n",
            "Installing collected packages: bing-image-downloader\n",
            "Successfully installed bing-image-downloader-1.0.4\n"
          ],
          "name": "stdout"
        }
      ]
    },
    {
      "cell_type": "code",
      "metadata": {
        "colab": {
          "base_uri": "https://localhost:8080/"
        },
        "id": "uuxozzKxuogF",
        "outputId": "b06afb81-6545-4dc1-9f56-daf913087563"
      },
      "source": [
        "from bing_image_downloader import downloader\r\n",
        "downloader.download(\"banana fruit\", limit=30,  output_dir='images', adult_filter_off=True)"
      ],
      "execution_count": 2,
      "outputs": [
        {
          "output_type": "stream",
          "text": [
            "\n",
            "\n",
            "[!!]Indexing page: 1\n",
            "\n",
            "[%] Indexed 30 Images on Page 1.\n",
            "\n",
            "===============================================\n",
            "\n",
            "[%] Downloading Image #1 from https://cdn.shopify.com/s/files/1/2331/3573/products/banana.jpg?v=1505655050\n",
            "[%] File Downloaded !\n",
            "\n",
            "[%] Downloading Image #2 from http://www.ciaoimports.com/assets/images/Banana.jpg\n",
            "[!] Issue getting: http://www.ciaoimports.com/assets/images/Banana.jpg\n",
            "[!] Error:: HTTP Error 404: Not Found\n",
            "[%] Downloading Image #2 from http://buzzghana.com/wp-content/uploads/2015/08/banana-e1439973458806.png\n",
            "[%] File Downloaded !\n",
            "\n",
            "[%] Downloading Image #3 from http://4.bp.blogspot.com/-PB1VYJjSCQE/UREBbiEkphI/AAAAAAAAARM/a1tawzVrOA0/s1600/banana.jpeg\n",
            "[%] File Downloaded !\n",
            "\n",
            "[%] Downloading Image #4 from https://www.localefoods.com.au/assets/full/RAV003.jpg?1540450782\n",
            "[!] Issue getting: https://www.localefoods.com.au/assets/full/RAV003.jpg?1540450782\n",
            "[!] Error:: HTTP Error 522: Origin Connection Time-out\n",
            "[%] Downloading Image #4 from https://get.pxhere.com/photo/plant-fruit-food-produce-yellow-banana-mature-flowering-plant-banana-da-terra-land-plant-banana-family-cooking-plantain-bunch-of-bananas-1294883.jpg\n",
            "[%] File Downloaded !\n",
            "\n",
            "[%] Downloading Image #5 from http://4.bp.blogspot.com/-gcGCJsbTAY0/T7hKgxLiY7I/AAAAAAAAAL4/R4seeHldb_E/s1600/banana-fruit.jpg\n",
            "[%] File Downloaded !\n",
            "\n",
            "[%] Downloading Image #6 from http://www.26fruits.co.uk/images/full-fruit/banana.jpg\n",
            "[Error]Invalid image, not saving http://www.26fruits.co.uk/images/full-fruit/banana.jpg\n",
            "\n",
            "[!] Issue getting: http://www.26fruits.co.uk/images/full-fruit/banana.jpg\n",
            "[!] Error:: No active exception to reraise\n",
            "[%] Downloading Image #6 from http://1.bp.blogspot.com/-21fVIVrAj4A/TrqC3J_HcPI/AAAAAAAAAFA/I4FTI8inqAg/s1600/Banana.png\n",
            "[%] File Downloaded !\n",
            "\n",
            "[%] Downloading Image #7 from http://www.u-run.fr/wp-content/uploads/2015/02/banane.jpg\n",
            "[%] File Downloaded !\n",
            "\n",
            "[%] Downloading Image #8 from https://cdn.shopify.com/s/files/1/1891/5035/products/120_x700.png?v=1492012517\n",
            "[%] File Downloaded !\n",
            "\n",
            "[%] Downloading Image #9 from http://2.bp.blogspot.com/-pU8BDUCR3Sg/UDZQmt4IcdI/AAAAAAAAACA/T5rq7xIKLek/s1600/Banana.png\n",
            "[%] File Downloaded !\n",
            "\n",
            "[%] Downloading Image #10 from http://tipsoye.com/wp-content/uploads/2016/08/banana-fruits.jpg\n",
            "[%] File Downloaded !\n",
            "\n",
            "[%] Downloading Image #11 from https://medias.santepratique.fr/wp-content/uploads/Banane.jpg\n",
            "[%] File Downloaded !\n",
            "\n",
            "[%] Downloading Image #12 from https://www.insideedition.com/sites/default/files/images/2019-07/073119-banana-1280x720-recovered.jpg\n",
            "[%] File Downloaded !\n",
            "\n",
            "[%] Downloading Image #13 from https://www.feedipedia.org/sites/default/files/images/banana_cavendish.jpg\n",
            "[%] File Downloaded !\n",
            "\n",
            "[%] Downloading Image #14 from https://mifruta.es/wp-content/uploads/2017/11/mifruta_Banana.jpg\n",
            "[%] File Downloaded !\n",
            "\n",
            "[%] Downloading Image #15 from http://www.kuali.com/wp-content/uploads/2014/10/bananas.jpg\n",
            "[%] File Downloaded !\n",
            "\n",
            "[%] Downloading Image #16 from https://static.turbosquid.com/Preview/2016/07/24__11_08_38/banana_1.jpg2847175D-1890-4915-9B37-5CA2B5883855Original.jpg\n",
            "[%] File Downloaded !\n",
            "\n",
            "[%] Downloading Image #17 from http://vinepair.com/wp-content/uploads/2015/04/banana-beer-social.jpg\n",
            "[%] File Downloaded !\n",
            "\n",
            "[%] Downloading Image #18 from http://i.huffpost.com/gen/3733188/images/o-BANANAS-facebook.jpg\n",
            "[%] File Downloaded !\n",
            "\n",
            "[%] Downloading Image #19 from https://www.organicauthority.com/.image/t_share/MTU5MzMwMTYyMDY3MzgzNTEw/bananas.jpg\n",
            "[%] File Downloaded !\n",
            "\n",
            "[%] Downloading Image #20 from https://foodandnutrition.org/wp-content/uploads/SavorBananas.jpg\n",
            "[%] File Downloaded !\n",
            "\n",
            "[%] Downloading Image #21 from https://en.khmerpostasia.com/wp-content/uploads/2020/06/ripe-unripe-bananas.jpg\n",
            "[%] File Downloaded !\n",
            "\n",
            "[%] Downloading Image #22 from https://images.wisegeek.com/bunch-of-yellow-bananas.jpg\n",
            "[%] File Downloaded !\n",
            "\n",
            "[%] Downloading Image #23 from https://cdn.thehealthybutcher.com/images/P.cache.x1/The-Healthy-Butcher-Banana-Single.jpg\n",
            "[!] Issue getting: https://cdn.thehealthybutcher.com/images/P.cache.x1/The-Healthy-Butcher-Banana-Single.jpg\n",
            "[!] Error:: <urlopen error [SSL: CERTIFICATE_VERIFY_FAILED] certificate verify failed: certificate has expired (_ssl.c:1091)>\n",
            "[%] Downloading Image #23 from https://1.bp.blogspot.com/-a1C5YS_E9Jo/Vsht1gc4YtI/AAAAAAAAHPM/zuxcF_hXnFw/s1600/banana-fruit-images.jpg\n",
            "[%] File Downloaded !\n",
            "\n",
            "[%] Downloading Image #24 from http://2.bp.blogspot.com/-svN7RvCnLNo/Ta0njx8ANXI/AAAAAAAAACg/67PZw72af_0/s1600/bananas.jpg\n",
            "[%] File Downloaded !\n",
            "\n",
            "[%] Downloading Image #25 from https://static.turbosquid.com/Preview/000203/631/MD/banana-fruit-3d-model_D.jpg\n",
            "[%] File Downloaded !\n",
            "\n",
            "[%] Downloading Image #26 from https://i5.walmartimages.ca/images/Large/580/6_r/875806_R.jpg\n",
            "[%] File Downloaded !\n",
            "\n",
            "\n",
            "\n",
            "[!!]Indexing page: 2\n",
            "\n",
            "[%] Indexed 35 Images on Page 2.\n",
            "\n",
            "===============================================\n",
            "\n",
            "[%] Downloading Image #27 from https://cdn.shopify.com/s/files/1/2331/3573/products/banana.jpg?v=1505655050\n",
            "[%] File Downloaded !\n",
            "\n",
            "[%] Downloading Image #28 from http://www.ciaoimports.com/assets/images/Banana.jpg\n",
            "[!] Issue getting: http://www.ciaoimports.com/assets/images/Banana.jpg\n",
            "[!] Error:: HTTP Error 404: Not Found\n",
            "[%] Downloading Image #28 from http://buzzghana.com/wp-content/uploads/2015/08/banana-e1439973458806.png\n",
            "[%] File Downloaded !\n",
            "\n",
            "[%] Downloading Image #29 from http://4.bp.blogspot.com/-PB1VYJjSCQE/UREBbiEkphI/AAAAAAAAARM/a1tawzVrOA0/s1600/banana.jpeg\n",
            "[%] File Downloaded !\n",
            "\n",
            "[%] Downloading Image #30 from https://www.localefoods.com.au/assets/full/RAV003.jpg?1540450782\n",
            "[!] Issue getting: https://www.localefoods.com.au/assets/full/RAV003.jpg?1540450782\n",
            "[!] Error:: HTTP Error 522: Origin Connection Time-out\n",
            "[%] Downloading Image #30 from https://get.pxhere.com/photo/plant-fruit-food-produce-yellow-banana-mature-flowering-plant-banana-da-terra-land-plant-banana-family-cooking-plantain-bunch-of-bananas-1294883.jpg\n",
            "[%] File Downloaded !\n",
            "\n",
            "\n",
            "\n",
            "[%] Done. Downloaded 30 images.\n",
            "\n",
            "===============================================\n",
            "\n"
          ],
          "name": "stdout"
        }
      ]
    },
    {
      "cell_type": "code",
      "metadata": {
        "colab": {
          "base_uri": "https://localhost:8080/"
        },
        "id": "qEWO-iK2usZP",
        "outputId": "10be1144-b89c-4731-b16a-c2ebc68116b1"
      },
      "source": [
        "from bing_image_downloader import downloader\r\n",
        "downloader.download(\"guava fruit\", limit=30,  output_dir='images', adult_filter_off=True)"
      ],
      "execution_count": 3,
      "outputs": [
        {
          "output_type": "stream",
          "text": [
            "\n",
            "\n",
            "[!!]Indexing page: 1\n",
            "\n",
            "[%] Indexed 30 Images on Page 1.\n",
            "\n",
            "===============================================\n",
            "\n",
            "[%] Downloading Image #1 from https://healthjade.com/wp-content/uploads/2018/05/guava-fruit.jpg\n",
            "[%] File Downloaded !\n",
            "\n",
            "[%] Downloading Image #2 from https://cdn.shopify.com/s/files/1/0076/4339/8233/products/guava.jpg?v=1543324340\n",
            "[%] File Downloaded !\n",
            "\n",
            "[%] Downloading Image #3 from https://1.bp.blogspot.com/-VXq_4BIpU5o/Vo_ZwO1okMI/AAAAAAAABy4/k5MZgInsgK8/s1600/guava.jpg\n",
            "[%] File Downloaded !\n",
            "\n",
            "[%] Downloading Image #4 from https://meaningzone.com/wp-content/uploads/2019/10/Guava-Fruit-Dream-Meaning-and-Symbolism.jpg\n",
            "[%] File Downloaded !\n",
            "\n",
            "[%] Downloading Image #5 from http://ititropicals.com/wp-content/uploads/guava_fruit_2.png\n",
            "[%] File Downloaded !\n",
            "\n",
            "[%] Downloading Image #6 from https://webstockreview.net/images/clipart-fruit-guava-13.png\n",
            "[%] File Downloaded !\n",
            "\n",
            "[%] Downloading Image #7 from https://defeatdiabetes.org/wp-content/uploads/2018/05/guava-benefits.jpg\n",
            "[%] File Downloaded !\n",
            "\n",
            "[%] Downloading Image #8 from http://www.thuysvietkitchen.com/wp-content/uploads/2013/05/Trái-ổi-Guava-fruit.jpg\n",
            "[!] Issue getting: http://www.thuysvietkitchen.com/wp-content/uploads/2013/05/Trái-ổi-Guava-fruit.jpg\n",
            "[!] Error:: 'ascii' codec can't encode character '\\xe1' in position 34: ordinal not in range(128)\n",
            "[%] Downloading Image #8 from https://360view.hum3d.com/zoom/Food/Guava_Fruit_1000_0001.jpg\n",
            "[%] File Downloaded !\n",
            "\n",
            "[%] Downloading Image #9 from https://4.imimg.com/data4/DS/NH/ANDROID-34666688/product-500x500.jpeg\n",
            "[%] File Downloaded !\n",
            "\n",
            "[%] Downloading Image #10 from https://www.healthline.com/hlcmsresource/images/AN_images/benefits-of-guavas-1200x628-facebook.jpg\n",
            "[%] File Downloaded !\n",
            "\n",
            "[%] Downloading Image #11 from https://frasercoastnursery.com.au/wp-content/uploads/2019/04/Guava-Tree-450w.jpg\n",
            "[%] File Downloaded !\n",
            "\n",
            "[%] Downloading Image #12 from http://1.bp.blogspot.com/-IOfEjk0e9iM/Tt4_c7jjpnI/AAAAAAAAA-o/hTElqIuNYLo/s1600/guava+fr.jpg\n",
            "[%] File Downloaded !\n",
            "\n",
            "[%] Downloading Image #13 from https://asnlive.in/wp-content/uploads/2018/07/guava-benefits-625_625x350_71447741866.jpg\n",
            "[%] File Downloaded !\n",
            "\n",
            "[%] Downloading Image #14 from https://i0.wp.com/lowcarbhack.com/wp-content/uploads/2020/01/guavas-keto.jpg?resize=750%2C500&amp;ssl=1\n",
            "[%] File Downloaded !\n",
            "\n",
            "[%] Downloading Image #15 from http://2.bp.blogspot.com/-kU0dEC7Dbe0/UME2XwrmL5I/AAAAAAAAAIw/d2A9eYgZMG0/s1600/hawaiian-guava1.jpg\n",
            "[%] File Downloaded !\n",
            "\n",
            "[%] Downloading Image #16 from https://lajollamom.com/wp-content/uploads/2017/07/taiwan-guava-exotic-asian-fruits.jpg\n",
            "[%] File Downloaded !\n",
            "\n",
            "[%] Downloading Image #17 from https://www.bluemacawflora.com/wp-content/uploads/2019/05/guava.jpg\n",
            "[%] File Downloaded !\n",
            "\n",
            "[%] Downloading Image #18 from https://mamiverse.com/wp-content/uploads/2016/02/10-Guava-Fruit-Recipes-Youll-Flip-Over-MainPhoto.jpg\n",
            "[%] File Downloaded !\n",
            "\n",
            "[%] Downloading Image #19 from https://www.abcnewsgh.com/wp-content/uploads/2019/12/guava-fruit.jpg\n",
            "[%] File Downloaded !\n",
            "\n",
            "[%] Downloading Image #20 from https://sranangkukru.net/wp-content/uploads/2016/02/guave02.jpg\n",
            "[%] File Downloaded !\n",
            "\n",
            "[%] Downloading Image #21 from https://images.lifealth.com/uploads/2017/11/health-benefits-of-guava-1.jpg\n",
            "[%] File Downloaded !\n",
            "\n",
            "[%] Downloading Image #22 from https://3.bp.blogspot.com/-1I9K2OC5eUY/VwkUZA8QuFI/AAAAAAAARks/KDxRlUqGRKEbXvQkDv_Jpe4Sef21wneQA/s1600/DSC00178_Edit2%2B%2528Large%2529.jpg\n",
            "[%] File Downloaded !\n",
            "\n",
            "[%] Downloading Image #23 from http://i262.photobucket.com/albums/ii108/7_Heads/Fruit Trees/Fruit_Trees/Psidium_guajava_fruit_05.jpg\n",
            "[!] Issue getting: http://i262.photobucket.com/albums/ii108/7_Heads/Fruit Trees/Fruit_Trees/Psidium_guajava_fruit_05.jpg\n",
            "[!] Error:: URL can't contain control characters. '/albums/ii108/7_Heads/Fruit Trees/Fruit_Trees/Psidium_guajava_fruit_05.jpg' (found at least ' ')\n",
            "[%] Downloading Image #23 from http://upload.wikimedia.org/wikipedia/commons/thumb/b/b0/Guava_bangalore.jpg/798px-Guava_bangalore.jpg\n",
            "[%] File Downloaded !\n",
            "\n",
            "[%] Downloading Image #24 from https://upload.wikimedia.org/wikipedia/commons/3/3a/Psidium_guajava_fruit.jpg\n",
            "[%] File Downloaded !\n",
            "\n",
            "[%] Downloading Image #25 from https://cdn.britannica.com/59/139059-050-30794D53/Guava-fruit.jpg\n",
            "[%] File Downloaded !\n",
            "\n",
            "[%] Downloading Image #26 from https://imagesvc.meredithcorp.io/v3/mm/image?q=85&amp;c=sc&amp;poi=face&amp;w=2000&amp;h=1047&amp;url=https:%2F%2Fstatic.onecms.io%2Fwp-content%2Fuploads%2Fsites%2F35%2F2020%2F06%2F25%2Fguava-fb-2000.jpg\n",
            "[!] Issue getting: https://imagesvc.meredithcorp.io/v3/mm/image?q=85&amp;c=sc&amp;poi=face&amp;w=2000&amp;h=1047&amp;url=https:%2F%2Fstatic.onecms.io%2Fwp-content%2Fuploads%2Fsites%2F35%2F2020%2F06%2F25%2Fguava-fb-2000.jpg\n",
            "[!] Error:: HTTP Error 400: Bad Request\n",
            "[%] Downloading Image #26 from https://remediva.com/wp-content/uploads/2020/04/guava-fruit-during-pregnancy.jpg\n",
            "[!] Issue getting: https://remediva.com/wp-content/uploads/2020/04/guava-fruit-during-pregnancy.jpg\n",
            "[!] Error:: <urlopen error [SSL: CERTIFICATE_VERIFY_FAILED] certificate verify failed: self signed certificate (_ssl.c:1091)>\n",
            "[%] Downloading Image #26 from https://3.bp.blogspot.com/-_aqR_uPhSZg/V6ySiYuKY4I/AAAAAAAAsCE/5vT7ZkM7JTwXe0MMbH93-1aNpESsbbc3wCLcB/s1600/guavas.NEF.jpg\n",
            "[%] File Downloaded !\n",
            "\n",
            "\n",
            "\n",
            "[!!]Indexing page: 2\n",
            "\n",
            "[%] Indexed 35 Images on Page 2.\n",
            "\n",
            "===============================================\n",
            "\n",
            "[%] Downloading Image #27 from https://healthjade.com/wp-content/uploads/2018/05/guava-fruit.jpg\n",
            "[%] File Downloaded !\n",
            "\n",
            "[%] Downloading Image #28 from https://cdn.shopify.com/s/files/1/0076/4339/8233/products/guava.jpg?v=1543324340\n",
            "[%] File Downloaded !\n",
            "\n",
            "[%] Downloading Image #29 from https://1.bp.blogspot.com/-VXq_4BIpU5o/Vo_ZwO1okMI/AAAAAAAABy4/k5MZgInsgK8/s1600/guava.jpg\n",
            "[%] File Downloaded !\n",
            "\n",
            "[%] Downloading Image #30 from https://meaningzone.com/wp-content/uploads/2019/10/Guava-Fruit-Dream-Meaning-and-Symbolism.jpg\n",
            "[%] File Downloaded !\n",
            "\n",
            "\n",
            "\n",
            "[%] Done. Downloaded 30 images.\n",
            "\n",
            "===============================================\n",
            "\n"
          ],
          "name": "stdout"
        }
      ]
    },
    {
      "cell_type": "code",
      "metadata": {
        "colab": {
          "base_uri": "https://localhost:8080/"
        },
        "id": "NvlrIHb_uxSQ",
        "outputId": "a1e16b9f-7ea3-4b3e-ee3f-bc3bff8c4f1d"
      },
      "source": [
        "from bing_image_downloader import downloader\r\n",
        "downloader.download(\"apple fruit\", limit=30,  output_dir='images', adult_filter_off=True)"
      ],
      "execution_count": 4,
      "outputs": [
        {
          "output_type": "stream",
          "text": [
            "\n",
            "\n",
            "[!!]Indexing page: 1\n",
            "\n",
            "[%] Indexed 30 Images on Page 1.\n",
            "\n",
            "===============================================\n",
            "\n",
            "[%] Downloading Image #1 from https://vignette.wikia.nocookie.net/fruits-information/images/2/2b/Apple.jpg/revision/latest?cb=20180802112257\n",
            "[%] File Downloaded !\n",
            "\n",
            "[%] Downloading Image #2 from https://www.healthbenefitstimes.com/9/gallery/apple/Apple-fruit.jpg\n",
            "[%] File Downloaded !\n",
            "\n",
            "[%] Downloading Image #3 from https://medilifefood.com/wp-content/uploads/2019/10/purepng.com-red-appleappleapplesfruitsweet-1701527180174lrnig.png\n",
            "[%] File Downloaded !\n",
            "\n",
            "[%] Downloading Image #4 from http://dreamicus.com/data/apple/apple-01.jpg\n",
            "[%] File Downloaded !\n",
            "\n",
            "[%] Downloading Image #5 from https://www.setaswall.com/wp-content/uploads/2018/05/Apple-Fruit-Grass-Wallpaper-720x1520.jpg\n",
            "[%] File Downloaded !\n",
            "\n",
            "[%] Downloading Image #6 from http://www.chhajedgarden.com/media/catalog/product/cache/1/image/9df78eab33525d08d6e5fb8d27136e95/0/4/04_apples.jpg\n",
            "[%] File Downloaded !\n",
            "\n",
            "[%] Downloading Image #7 from https://www.theayurveda.org/wp-content/uploads/2015/08/Apple-fruit.jpg\n",
            "[%] File Downloaded !\n",
            "\n",
            "[%] Downloading Image #8 from http://www.salixfruits.com/assets/img/apples-02.jpg\n",
            "[%] File Downloaded !\n",
            "\n",
            "[%] Downloading Image #9 from https://www.dropee.com/product_uploads/photos/747d6e1e6081d8e0b8eec1b5c412d9f76af81ee7.jpeg\n",
            "[%] File Downloaded !\n",
            "\n",
            "[%] Downloading Image #10 from https://extension.umaine.edu/fruit/wp-content/uploads/sites/8/2011/02/haralson.jpg\n",
            "[%] File Downloaded !\n",
            "\n",
            "[%] Downloading Image #11 from https://i1.pngguru.com/preview/499/373/218/red-apple-fruit-painting-png-clipart.jpg\n",
            "[%] File Downloaded !\n",
            "\n",
            "[%] Downloading Image #12 from https://upload.wikimedia.org/wikipedia/commons/thumb/0/07/Honeycrisp-Apple.jpg/1200px-Honeycrisp-Apple.jpg\n",
            "[%] File Downloaded !\n",
            "\n",
            "[%] Downloading Image #13 from https://5.imimg.com/data5/YY/EN/MY-8155364/fresh-apple-500x500.jpg\n",
            "[%] File Downloaded !\n",
            "\n",
            "[%] Downloading Image #14 from http://1.bp.blogspot.com/-sm2PC8KW-l4/UDP7Z4Mz80I/AAAAAAAAB6g/j91oeuESMcs/s1600/apple.jpg\n",
            "[%] File Downloaded !\n",
            "\n",
            "[%] Downloading Image #15 from http://images6.fanpop.com/image/photos/34900000/Apple-fruit-34914774-693-693.jpg\n",
            "[%] File Downloaded !\n",
            "\n",
            "[%] Downloading Image #16 from https://i.pinimg.com/originals/0c/e9/77/0ce9777ad250c671d67605b2f11212b1.png\n",
            "[%] File Downloaded !\n",
            "\n",
            "[%] Downloading Image #17 from http://purepng.com/public/uploads/large/purepng.com-red-appleapplemalus-domesticafruitdeliciousred-apple-170152716492043huf.png\n",
            "[%] File Downloaded !\n",
            "\n",
            "[%] Downloading Image #18 from https://i.ytimg.com/vi/aQ4CE0XA1AA/maxresdefault.jpg\n",
            "[%] File Downloaded !\n",
            "\n",
            "[%] Downloading Image #19 from https://oneflowyogastudio.com/wp-content/uploads/2019/01/Apple-fruit.jpg\n",
            "[%] File Downloaded !\n",
            "\n",
            "[%] Downloading Image #20 from https://bangaloreagrico.in/wp-content/uploads/2018/01/apple-plant-bangalore-agrico.jpg\n",
            "[%] File Downloaded !\n",
            "\n",
            "[%] Downloading Image #21 from http://www.marysrosaries.com/collaboration/images/b/bb/Many_Different_Types_Of_Apples_001.jpg\n",
            "[%] File Downloaded !\n",
            "\n",
            "[%] Downloading Image #22 from https://img.theweek.in/content/dam/week/news/sci-tech/2019/June/apple--apples-food-fruits-shut.jpg\n",
            "[%] File Downloaded !\n",
            "\n",
            "[%] Downloading Image #23 from https://tiimg.tistatic.com/fp/1/005/524/fresh-red-apple--413.jpg\n",
            "[%] File Downloaded !\n",
            "\n",
            "[%] Downloading Image #24 from http://www.hdwallpapersfreedownload.com/uploads/large/fruits/red-apple-hd-background.jpg\n",
            "[%] File Downloaded !\n",
            "\n",
            "[%] Downloading Image #25 from https://5.imimg.com/data5/HF/CW/MY-51857835/organic-apple-fruit-500x500.jpg\n",
            "[%] File Downloaded !\n",
            "\n",
            "[%] Downloading Image #26 from http://aggie-horticulture.tamu.edu/vegetable/files/2011/10/apple26.jpg\n",
            "[%] File Downloaded !\n",
            "\n",
            "[%] Downloading Image #27 from https://fruit-ukraine.org/eng/wp-content/uploads/2020/06/apple.jpeg\n",
            "[%] File Downloaded !\n",
            "\n",
            "[%] Downloading Image #28 from https://robinettes.com/wp-content/uploads/2016/09/MAC-Honey-Crisp-1-11-05-2014_027.jpg\n",
            "[%] File Downloaded !\n",
            "\n",
            "[%] Downloading Image #29 from http://simontheplantman.com.au/wp-content/uploads/2018/08/Apples-TREE-FRUITS.png\n",
            "[%] File Downloaded !\n",
            "\n",
            "[%] Downloading Image #30 from https://www.housingunits.co.uk/media/catalog/product/cache/60968cec045f20fb06ab5f7720001507/9/a/9a06b33b7549f672e7d276fd81d5b4884cdd50d9_l_311042_2.jpg\n",
            "[%] File Downloaded !\n",
            "\n"
          ],
          "name": "stdout"
        }
      ]
    },
    {
      "cell_type": "code",
      "metadata": {
        "id": "8wGIqBuau05B"
      },
      "source": [
        "import os\r\n",
        "import matplotlib.pyplot as plt\r\n",
        "import numpy as np\r\n",
        "from skimage.io import imread\r\n",
        "from skimage.transform import resize\r\n",
        "target=[]\r\n",
        "images=[]\r\n",
        "flat_data=[]\r\n",
        "DATADIR='/content/images'\r\n",
        "CATAGORIES=['apple fruit','banana fruit','guava fruit']\r\n",
        "\r\n",
        "for catagory in CATAGORIES:\r\n",
        "  class_num=CATAGORIES.index(catagory)\r\n",
        "  path=os.path.join(DATADIR,catagory)\r\n",
        "  for img in os.listdir(path):\r\n",
        "   img_array= imread(os.path.join(path,img))\r\n",
        "   #print(img_array.shape)\r\n",
        "   #plt.imshow(img_array)\r\n",
        "   #break\r\n",
        "   img_resized=resize(img_array,(150,150,3))\r\n",
        "   flat_data.append(img_resized.flatten())\r\n",
        "   images.append(img_resized)\r\n",
        "   target.append(class_num)\r\n",
        "flat_data=np.array(flat_data)\r\n",
        "target=np.array(target)\r\n",
        "images=np.array(images)"
      ],
      "execution_count": 5,
      "outputs": []
    },
    {
      "cell_type": "code",
      "metadata": {
        "id": "wqmM6OYdu5y0"
      },
      "source": [
        "from sklearn.model_selection import train_test_split\r\n",
        "x_train,x_test,y_train,y_test=train_test_split(flat_data,target,test_size=0.3,random_state=109)"
      ],
      "execution_count": 6,
      "outputs": []
    },
    {
      "cell_type": "code",
      "metadata": {
        "colab": {
          "base_uri": "https://localhost:8080/"
        },
        "id": "DgtUqWPwu-Ec",
        "outputId": "5022e6c1-7550-4155-b8a6-e30bcf5aaee2"
      },
      "source": [
        "from sklearn.model_selection import GridSearchCV\r\n",
        "from sklearn import svm\r\n",
        "param_grid=[\r\n",
        "            {'C':[1,10,100,1000],'kernel':['linear']},\r\n",
        "             {'C':[1,10,100,1000],'gamma':[0.001,0.0001],'kernel':['rbf']}\r\n",
        "            ]\r\n",
        "svc=svm.SVC(probability=True)\r\n",
        "clf=GridSearchCV(svc,param_grid)\r\n",
        "clf.fit(x_train,y_train)\r\n"
      ],
      "execution_count": 7,
      "outputs": [
        {
          "output_type": "execute_result",
          "data": {
            "text/plain": [
              "GridSearchCV(cv=None, error_score=nan,\n",
              "             estimator=SVC(C=1.0, break_ties=False, cache_size=200,\n",
              "                           class_weight=None, coef0=0.0,\n",
              "                           decision_function_shape='ovr', degree=3,\n",
              "                           gamma='scale', kernel='rbf', max_iter=-1,\n",
              "                           probability=True, random_state=None, shrinking=True,\n",
              "                           tol=0.001, verbose=False),\n",
              "             iid='deprecated', n_jobs=None,\n",
              "             param_grid=[{'C': [1, 10, 100, 1000], 'kernel': ['linear']},\n",
              "                         {'C': [1, 10, 100, 1000], 'gamma': [0.001, 0.0001],\n",
              "                          'kernel': ['rbf']}],\n",
              "             pre_dispatch='2*n_jobs', refit=True, return_train_score=False,\n",
              "             scoring=None, verbose=0)"
            ]
          },
          "metadata": {
            "tags": []
          },
          "execution_count": 7
        }
      ]
    },
    {
      "cell_type": "code",
      "metadata": {
        "colab": {
          "base_uri": "https://localhost:8080/"
        },
        "id": "u14XrUT1u_x9",
        "outputId": "662734d6-266d-4862-aaad-f2543af0ac7c"
      },
      "source": [
        "y_pred=clf.predict(x_test)\r\n",
        "y_pred"
      ],
      "execution_count": 8,
      "outputs": [
        {
          "output_type": "execute_result",
          "data": {
            "text/plain": [
              "array([0, 0, 1, 2, 2, 2, 0, 1, 1, 0, 0, 0, 1, 2, 2, 1, 2, 0, 0, 1, 2, 2,\n",
              "       2, 0, 2, 0, 2])"
            ]
          },
          "metadata": {
            "tags": []
          },
          "execution_count": 8
        }
      ]
    },
    {
      "cell_type": "code",
      "metadata": {
        "colab": {
          "base_uri": "https://localhost:8080/"
        },
        "id": "nH-cmGNOvCsr",
        "outputId": "0ed0d3c2-7235-4ae9-944b-ba2a608016e6"
      },
      "source": [
        "y_test"
      ],
      "execution_count": 9,
      "outputs": [
        {
          "output_type": "execute_result",
          "data": {
            "text/plain": [
              "array([1, 0, 1, 2, 2, 1, 0, 1, 1, 0, 1, 0, 1, 2, 2, 1, 2, 1, 0, 1, 2, 2,\n",
              "       2, 0, 0, 0, 1])"
            ]
          },
          "metadata": {
            "tags": []
          },
          "execution_count": 9
        }
      ]
    },
    {
      "cell_type": "code",
      "metadata": {
        "colab": {
          "base_uri": "https://localhost:8080/"
        },
        "id": "AgAQIseJvEE8",
        "outputId": "95ea4615-7892-4a69-e6ba-d98eaece9c13"
      },
      "source": [
        "from sklearn.metrics import accuracy_score,confusion_matrix\r\n",
        "accuracy_score(y_pred,y_test)"
      ],
      "execution_count": 10,
      "outputs": [
        {
          "output_type": "execute_result",
          "data": {
            "text/plain": [
              "0.7777777777777778"
            ]
          },
          "metadata": {
            "tags": []
          },
          "execution_count": 10
        }
      ]
    },
    {
      "cell_type": "code",
      "metadata": {
        "colab": {
          "base_uri": "https://localhost:8080/"
        },
        "id": "rEdOh0E5vEHc",
        "outputId": "bd12f6da-0c41-404a-8d6a-fae3822cf573"
      },
      "source": [
        "confusion_matrix(y_pred,y_test)"
      ],
      "execution_count": 11,
      "outputs": [
        {
          "output_type": "execute_result",
          "data": {
            "text/plain": [
              "array([[7, 3, 0],\n",
              "       [0, 6, 0],\n",
              "       [1, 2, 8]])"
            ]
          },
          "metadata": {
            "tags": []
          },
          "execution_count": 11
        }
      ]
    },
    {
      "cell_type": "code",
      "metadata": {
        "id": "xGXjbt8YvEKQ"
      },
      "source": [
        "import pickle\r\n",
        "pickle.dump(clf,open('img_model.p','wb'))"
      ],
      "execution_count": 12,
      "outputs": []
    },
    {
      "cell_type": "code",
      "metadata": {
        "id": "hjzpxzrYvEMw"
      },
      "source": [
        "model=pickle.load(open('img_model.p','rb'))"
      ],
      "execution_count": 13,
      "outputs": []
    },
    {
      "cell_type": "code",
      "metadata": {
        "colab": {
          "base_uri": "https://localhost:8080/",
          "height": 326
        },
        "id": "s16AJoLGvEPL",
        "outputId": "6842712b-753a-434e-c2da-c28c9d403121"
      },
      "source": [
        "flat_data=[]\r\n",
        "url=input(\"Enter the url\")\r\n",
        "img=imread(url)\r\n",
        "img_resized=resize(img,(150,150,3))\r\n",
        "flat_data.append(img_resized.flatten())\r\n",
        "flat_data=np.array(flat_data)\r\n",
        "print(img.shape)\r\n",
        "plt.imshow(img_resized)\r\n",
        "y_out=model.predict(flat_data)\r\n",
        "y_out=CATAGORIES[y_out[0]]\r\n",
        "print(f' PREDICTED OUTPUT:{y_out}')"
      ],
      "execution_count": 16,
      "outputs": [
        {
          "output_type": "stream",
          "text": [
            "Enter the url/content/drive/MyDrive/Banana.jpg\n",
            "(800, 1200, 3)\n",
            " PREDICTED OUTPUT:banana fruit\n"
          ],
          "name": "stdout"
        },
        {
          "output_type": "display_data",
          "data": {
            "image/png": "[encoded data removed]",
            "text/plain": [
              "<Figure size 432x288 with 1 Axes>"
            ]
          },
          "metadata": {
            "tags": [],
            "needs_background": "light"
          }
        }
      ]
    },
    {
      "cell_type": "code",
      "metadata": {
        "id": "gBXLQVQWv6eK"
      },
      "source": [
        ""
      ],
      "execution_count": null,
      "outputs": []
    }
  ]
}